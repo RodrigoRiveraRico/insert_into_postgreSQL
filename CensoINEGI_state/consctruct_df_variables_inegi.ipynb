{
 "cells": [
  {
   "cell_type": "code",
   "execution_count": 62,
   "metadata": {},
   "outputs": [
    {
     "name": "stdout",
     "output_type": "stream",
     "text": [
      "3.12.4 | packaged by Anaconda, Inc. | (main, Jun 18 2024, 15:03:56) [MSC v.1929 64 bit (AMD64)]\n"
     ]
    }
   ],
   "source": [
    "import sys\n",
    "print(sys.version) # versión de python"
   ]
  },
  {
   "cell_type": "code",
   "execution_count": 63,
   "metadata": {},
   "outputs": [
    {
     "name": "stdout",
     "output_type": "stream",
     "text": [
      "pandas_version:  2.2.2\n",
      "numpy_version:  1.26.4\n"
     ]
    }
   ],
   "source": [
    "import pandas as pd\n",
    "import numpy as np\n",
    "print('pandas_version: ',pd.__version__)\n",
    "print('numpy_version: ',np.__version__)"
   ]
  },
  {
   "cell_type": "markdown",
   "metadata": {},
   "source": [
    "Leer los datos descargados de la página de INEGI (datos y diccionario):"
   ]
  },
  {
   "cell_type": "code",
   "execution_count": 64,
   "metadata": {},
   "outputs": [
    {
     "name": "stderr",
     "output_type": "stream",
     "text": [
      "C:\\Users\\Carmen Maldonado\\AppData\\Local\\Temp\\ipykernel_14600\\2049682517.py:1: DtypeWarning: Columns (8) have mixed types. Specify dtype option on import or set low_memory=False.\n",
      "  df_datos_INEGI = pd.read_csv('conjunto_de_datos_iter_00CSV20.csv')\n"
     ]
    }
   ],
   "source": [
    "df_datos_INEGI = pd.read_csv('conjunto_de_datos_iter_00CSV20.csv')\n",
    "df_dict_INEGI = pd.read_csv('diccionario_datos_iter_00CSV20.csv')"
   ]
  },
  {
   "cell_type": "code",
   "execution_count": 65,
   "metadata": {},
   "outputs": [
    {
     "data": {
      "text/html": [
       "<div>\n",
       "<style scoped>\n",
       "    .dataframe tbody tr th:only-of-type {\n",
       "        vertical-align: middle;\n",
       "    }\n",
       "\n",
       "    .dataframe tbody tr th {\n",
       "        vertical-align: top;\n",
       "    }\n",
       "\n",
       "    .dataframe thead th {\n",
       "        text-align: right;\n",
       "    }\n",
       "</style>\n",
       "<table border=\"1\" class=\"dataframe\">\n",
       "  <thead>\n",
       "    <tr style=\"text-align: right;\">\n",
       "      <th></th>\n",
       "      <th>ENTIDAD</th>\n",
       "      <th>NOM_ENT</th>\n",
       "      <th>MUN</th>\n",
       "      <th>NOM_MUN</th>\n",
       "      <th>LOC</th>\n",
       "      <th>NOM_LOC</th>\n",
       "      <th>LONGITUD</th>\n",
       "      <th>LATITUD</th>\n",
       "      <th>ALTITUD</th>\n",
       "      <th>POBTOT</th>\n",
       "      <th>...</th>\n",
       "      <th>VPH_CEL</th>\n",
       "      <th>VPH_INTER</th>\n",
       "      <th>VPH_STVP</th>\n",
       "      <th>VPH_SPMVPI</th>\n",
       "      <th>VPH_CVJ</th>\n",
       "      <th>VPH_SINRTV</th>\n",
       "      <th>VPH_SINLTC</th>\n",
       "      <th>VPH_SINCINT</th>\n",
       "      <th>VPH_SINTIC</th>\n",
       "      <th>TAMLOC</th>\n",
       "    </tr>\n",
       "  </thead>\n",
       "  <tbody>\n",
       "    <tr>\n",
       "      <th>0</th>\n",
       "      <td>0</td>\n",
       "      <td>Total nacional</td>\n",
       "      <td>0</td>\n",
       "      <td>Total nacional</td>\n",
       "      <td>0</td>\n",
       "      <td>Total nacional</td>\n",
       "      <td>NaN</td>\n",
       "      <td>NaN</td>\n",
       "      <td>NaN</td>\n",
       "      <td>126014024</td>\n",
       "      <td>...</td>\n",
       "      <td>30775898</td>\n",
       "      <td>18307193</td>\n",
       "      <td>15211306</td>\n",
       "      <td>6616141</td>\n",
       "      <td>4047100</td>\n",
       "      <td>1788552</td>\n",
       "      <td>3170894</td>\n",
       "      <td>15108204</td>\n",
       "      <td>852871</td>\n",
       "      <td>*</td>\n",
       "    </tr>\n",
       "    <tr>\n",
       "      <th>1</th>\n",
       "      <td>0</td>\n",
       "      <td>Total nacional</td>\n",
       "      <td>0</td>\n",
       "      <td>Total nacional</td>\n",
       "      <td>9998</td>\n",
       "      <td>Localidades de una vivienda</td>\n",
       "      <td>NaN</td>\n",
       "      <td>NaN</td>\n",
       "      <td>NaN</td>\n",
       "      <td>250354</td>\n",
       "      <td>...</td>\n",
       "      <td>47005</td>\n",
       "      <td>8385</td>\n",
       "      <td>18981</td>\n",
       "      <td>1732</td>\n",
       "      <td>1113</td>\n",
       "      <td>12775</td>\n",
       "      <td>14143</td>\n",
       "      <td>51293</td>\n",
       "      <td>7154</td>\n",
       "      <td>*</td>\n",
       "    </tr>\n",
       "    <tr>\n",
       "      <th>2</th>\n",
       "      <td>0</td>\n",
       "      <td>Total nacional</td>\n",
       "      <td>0</td>\n",
       "      <td>Total nacional</td>\n",
       "      <td>9999</td>\n",
       "      <td>Localidades de dos viviendas</td>\n",
       "      <td>NaN</td>\n",
       "      <td>NaN</td>\n",
       "      <td>NaN</td>\n",
       "      <td>147125</td>\n",
       "      <td>...</td>\n",
       "      <td>25581</td>\n",
       "      <td>5027</td>\n",
       "      <td>11306</td>\n",
       "      <td>971</td>\n",
       "      <td>708</td>\n",
       "      <td>8247</td>\n",
       "      <td>10065</td>\n",
       "      <td>29741</td>\n",
       "      <td>5283</td>\n",
       "      <td>*</td>\n",
       "    </tr>\n",
       "    <tr>\n",
       "      <th>3</th>\n",
       "      <td>1</td>\n",
       "      <td>Aguascalientes</td>\n",
       "      <td>0</td>\n",
       "      <td>Total de la entidad Aguascalientes</td>\n",
       "      <td>0</td>\n",
       "      <td>Total de la Entidad</td>\n",
       "      <td>NaN</td>\n",
       "      <td>NaN</td>\n",
       "      <td>NaN</td>\n",
       "      <td>1425607</td>\n",
       "      <td>...</td>\n",
       "      <td>359895</td>\n",
       "      <td>236003</td>\n",
       "      <td>174089</td>\n",
       "      <td>98724</td>\n",
       "      <td>70126</td>\n",
       "      <td>6021</td>\n",
       "      <td>15323</td>\n",
       "      <td>128996</td>\n",
       "      <td>1711</td>\n",
       "      <td>*</td>\n",
       "    </tr>\n",
       "    <tr>\n",
       "      <th>4</th>\n",
       "      <td>1</td>\n",
       "      <td>Aguascalientes</td>\n",
       "      <td>0</td>\n",
       "      <td>Total de la entidad Aguascalientes</td>\n",
       "      <td>9998</td>\n",
       "      <td>Localidades de una vivienda</td>\n",
       "      <td>NaN</td>\n",
       "      <td>NaN</td>\n",
       "      <td>NaN</td>\n",
       "      <td>3697</td>\n",
       "      <td>...</td>\n",
       "      <td>732</td>\n",
       "      <td>205</td>\n",
       "      <td>212</td>\n",
       "      <td>48</td>\n",
       "      <td>41</td>\n",
       "      <td>39</td>\n",
       "      <td>62</td>\n",
       "      <td>530</td>\n",
       "      <td>20</td>\n",
       "      <td>*</td>\n",
       "    </tr>\n",
       "    <tr>\n",
       "      <th>5</th>\n",
       "      <td>1</td>\n",
       "      <td>Aguascalientes</td>\n",
       "      <td>0</td>\n",
       "      <td>Total de la entidad Aguascalientes</td>\n",
       "      <td>9999</td>\n",
       "      <td>Localidades de dos viviendas</td>\n",
       "      <td>NaN</td>\n",
       "      <td>NaN</td>\n",
       "      <td>NaN</td>\n",
       "      <td>3021</td>\n",
       "      <td>...</td>\n",
       "      <td>470</td>\n",
       "      <td>146</td>\n",
       "      <td>156</td>\n",
       "      <td>35</td>\n",
       "      <td>38</td>\n",
       "      <td>25</td>\n",
       "      <td>44</td>\n",
       "      <td>330</td>\n",
       "      <td>11</td>\n",
       "      <td>*</td>\n",
       "    </tr>\n",
       "    <tr>\n",
       "      <th>6</th>\n",
       "      <td>1</td>\n",
       "      <td>Aguascalientes</td>\n",
       "      <td>1</td>\n",
       "      <td>Aguascalientes</td>\n",
       "      <td>0</td>\n",
       "      <td>Total del Municipio</td>\n",
       "      <td>NaN</td>\n",
       "      <td>NaN</td>\n",
       "      <td>NaN</td>\n",
       "      <td>948990</td>\n",
       "      <td>...</td>\n",
       "      <td>251719</td>\n",
       "      <td>178619</td>\n",
       "      <td>130290</td>\n",
       "      <td>80951</td>\n",
       "      <td>56131</td>\n",
       "      <td>3299</td>\n",
       "      <td>7293</td>\n",
       "      <td>74227</td>\n",
       "      <td>731</td>\n",
       "      <td>*</td>\n",
       "    </tr>\n",
       "    <tr>\n",
       "      <th>7</th>\n",
       "      <td>1</td>\n",
       "      <td>Aguascalientes</td>\n",
       "      <td>1</td>\n",
       "      <td>Aguascalientes</td>\n",
       "      <td>1</td>\n",
       "      <td>Aguascalientes</td>\n",
       "      <td>102°17'45.768\" W</td>\n",
       "      <td>21°52'47.362\" N</td>\n",
       "      <td>1878.0</td>\n",
       "      <td>863893</td>\n",
       "      <td>...</td>\n",
       "      <td>232793</td>\n",
       "      <td>169675</td>\n",
       "      <td>123670</td>\n",
       "      <td>77719</td>\n",
       "      <td>53589</td>\n",
       "      <td>2995</td>\n",
       "      <td>5984</td>\n",
       "      <td>63661</td>\n",
       "      <td>595</td>\n",
       "      <td>13</td>\n",
       "    </tr>\n",
       "    <tr>\n",
       "      <th>8</th>\n",
       "      <td>1</td>\n",
       "      <td>Aguascalientes</td>\n",
       "      <td>1</td>\n",
       "      <td>Aguascalientes</td>\n",
       "      <td>94</td>\n",
       "      <td>Granja Adelita</td>\n",
       "      <td>102°22'24.710\" W</td>\n",
       "      <td>21°52'18.749\" N</td>\n",
       "      <td>1902.0</td>\n",
       "      <td>5</td>\n",
       "      <td>...</td>\n",
       "      <td>*</td>\n",
       "      <td>*</td>\n",
       "      <td>*</td>\n",
       "      <td>*</td>\n",
       "      <td>*</td>\n",
       "      <td>*</td>\n",
       "      <td>*</td>\n",
       "      <td>*</td>\n",
       "      <td>*</td>\n",
       "      <td>1</td>\n",
       "    </tr>\n",
       "    <tr>\n",
       "      <th>9</th>\n",
       "      <td>1</td>\n",
       "      <td>Aguascalientes</td>\n",
       "      <td>1</td>\n",
       "      <td>Aguascalientes</td>\n",
       "      <td>96</td>\n",
       "      <td>Agua Azul</td>\n",
       "      <td>102°21'25.639\" W</td>\n",
       "      <td>21°53'01.522\" N</td>\n",
       "      <td>1861.0</td>\n",
       "      <td>41</td>\n",
       "      <td>...</td>\n",
       "      <td>11</td>\n",
       "      <td>4</td>\n",
       "      <td>5</td>\n",
       "      <td>2</td>\n",
       "      <td>1</td>\n",
       "      <td>0</td>\n",
       "      <td>1</td>\n",
       "      <td>6</td>\n",
       "      <td>0</td>\n",
       "      <td>1</td>\n",
       "    </tr>\n",
       "  </tbody>\n",
       "</table>\n",
       "<p>10 rows × 286 columns</p>\n",
       "</div>"
      ],
      "text/plain": [
       "   ENTIDAD         NOM_ENT  MUN                             NOM_MUN   LOC  \\\n",
       "0        0  Total nacional    0                      Total nacional     0   \n",
       "1        0  Total nacional    0                      Total nacional  9998   \n",
       "2        0  Total nacional    0                      Total nacional  9999   \n",
       "3        1  Aguascalientes    0  Total de la entidad Aguascalientes     0   \n",
       "4        1  Aguascalientes    0  Total de la entidad Aguascalientes  9998   \n",
       "5        1  Aguascalientes    0  Total de la entidad Aguascalientes  9999   \n",
       "6        1  Aguascalientes    1                      Aguascalientes     0   \n",
       "7        1  Aguascalientes    1                      Aguascalientes     1   \n",
       "8        1  Aguascalientes    1                      Aguascalientes    94   \n",
       "9        1  Aguascalientes    1                      Aguascalientes    96   \n",
       "\n",
       "                        NOM_LOC          LONGITUD          LATITUD ALTITUD  \\\n",
       "0                Total nacional               NaN              NaN     NaN   \n",
       "1   Localidades de una vivienda               NaN              NaN     NaN   \n",
       "2  Localidades de dos viviendas               NaN              NaN     NaN   \n",
       "3           Total de la Entidad               NaN              NaN     NaN   \n",
       "4   Localidades de una vivienda               NaN              NaN     NaN   \n",
       "5  Localidades de dos viviendas               NaN              NaN     NaN   \n",
       "6           Total del Municipio               NaN              NaN     NaN   \n",
       "7                Aguascalientes  102°17'45.768\" W  21°52'47.362\" N  1878.0   \n",
       "8                Granja Adelita  102°22'24.710\" W  21°52'18.749\" N  1902.0   \n",
       "9                     Agua Azul  102°21'25.639\" W  21°53'01.522\" N  1861.0   \n",
       "\n",
       "      POBTOT  ...   VPH_CEL VPH_INTER  VPH_STVP VPH_SPMVPI  VPH_CVJ  \\\n",
       "0  126014024  ...  30775898  18307193  15211306    6616141  4047100   \n",
       "1     250354  ...     47005      8385     18981       1732     1113   \n",
       "2     147125  ...     25581      5027     11306        971      708   \n",
       "3    1425607  ...    359895    236003    174089      98724    70126   \n",
       "4       3697  ...       732       205       212         48       41   \n",
       "5       3021  ...       470       146       156         35       38   \n",
       "6     948990  ...    251719    178619    130290      80951    56131   \n",
       "7     863893  ...    232793    169675    123670      77719    53589   \n",
       "8          5  ...         *         *         *          *        *   \n",
       "9         41  ...        11         4         5          2        1   \n",
       "\n",
       "  VPH_SINRTV VPH_SINLTC VPH_SINCINT VPH_SINTIC TAMLOC  \n",
       "0    1788552    3170894    15108204     852871      *  \n",
       "1      12775      14143       51293       7154      *  \n",
       "2       8247      10065       29741       5283      *  \n",
       "3       6021      15323      128996       1711      *  \n",
       "4         39         62         530         20      *  \n",
       "5         25         44         330         11      *  \n",
       "6       3299       7293       74227        731      *  \n",
       "7       2995       5984       63661        595     13  \n",
       "8          *          *           *          *      1  \n",
       "9          0          1           6          0      1  \n",
       "\n",
       "[10 rows x 286 columns]"
      ]
     },
     "execution_count": 65,
     "metadata": {},
     "output_type": "execute_result"
    }
   ],
   "source": [
    "df_datos_INEGI.head(10)"
   ]
  },
  {
   "cell_type": "code",
   "execution_count": 66,
   "metadata": {},
   "outputs": [],
   "source": [
    "# Acomodar las columnas del diccionario:\n",
    "df_dict_INEGI = df_dict_INEGI.iloc[3:]\n",
    "df_dict_INEGI.columns = df_dict_INEGI.iloc[0]\n",
    "df_dict_INEGI = df_dict_INEGI[1:]"
   ]
  },
  {
   "cell_type": "code",
   "execution_count": 67,
   "metadata": {},
   "outputs": [
    {
     "data": {
      "text/html": [
       "<div>\n",
       "<style scoped>\n",
       "    .dataframe tbody tr th:only-of-type {\n",
       "        vertical-align: middle;\n",
       "    }\n",
       "\n",
       "    .dataframe tbody tr th {\n",
       "        vertical-align: top;\n",
       "    }\n",
       "\n",
       "    .dataframe thead th {\n",
       "        text-align: right;\n",
       "    }\n",
       "</style>\n",
       "<table border=\"1\" class=\"dataframe\">\n",
       "  <thead>\n",
       "    <tr style=\"text-align: right;\">\n",
       "      <th>3</th>\n",
       "      <th>Núm.</th>\n",
       "      <th>Indicador</th>\n",
       "      <th>Descripción</th>\n",
       "      <th>Mnemónico</th>\n",
       "      <th>Rangos</th>\n",
       "      <th>Longitud</th>\n",
       "      <th>NaN</th>\n",
       "      <th>NaN</th>\n",
       "      <th>NaN</th>\n",
       "      <th>NaN</th>\n",
       "    </tr>\n",
       "  </thead>\n",
       "  <tbody>\n",
       "    <tr>\n",
       "      <th>4</th>\n",
       "      <td>1</td>\n",
       "      <td>Clave de entidad federativa</td>\n",
       "      <td>Código que identifica a la entidad federativa....</td>\n",
       "      <td>ENTIDAD</td>\n",
       "      <td>00…32</td>\n",
       "      <td>2</td>\n",
       "      <td>NaN</td>\n",
       "      <td>NaN</td>\n",
       "      <td>NaN</td>\n",
       "      <td>NaN</td>\n",
       "    </tr>\n",
       "    <tr>\n",
       "      <th>5</th>\n",
       "      <td>2</td>\n",
       "      <td>Entidad federativa</td>\n",
       "      <td>Nombre oficial de la entidad federativa.</td>\n",
       "      <td>NOM_ENT</td>\n",
       "      <td>Alfanumérico</td>\n",
       "      <td>50</td>\n",
       "      <td>NaN</td>\n",
       "      <td>NaN</td>\n",
       "      <td>NaN</td>\n",
       "      <td>NaN</td>\n",
       "    </tr>\n",
       "    <tr>\n",
       "      <th>6</th>\n",
       "      <td>3</td>\n",
       "      <td>Clave de municipio o demarcación territorial</td>\n",
       "      <td>Código que identifica al municipio o demarcaci...</td>\n",
       "      <td>MUN</td>\n",
       "      <td>000…570</td>\n",
       "      <td>3</td>\n",
       "      <td>NaN</td>\n",
       "      <td>NaN</td>\n",
       "      <td>NaN</td>\n",
       "      <td></td>\n",
       "    </tr>\n",
       "    <tr>\n",
       "      <th>7</th>\n",
       "      <td>4</td>\n",
       "      <td>Municipio o demarcación territorial</td>\n",
       "      <td>Nombre oficial del municipio o demarcación ter...</td>\n",
       "      <td>NOM_MUN</td>\n",
       "      <td>Alfanumérico</td>\n",
       "      <td>50</td>\n",
       "      <td>NaN</td>\n",
       "      <td>NaN</td>\n",
       "      <td>NaN</td>\n",
       "      <td>NaN</td>\n",
       "    </tr>\n",
       "    <tr>\n",
       "      <th>8</th>\n",
       "      <td>5</td>\n",
       "      <td>Clave de localidad</td>\n",
       "      <td>Código que identifica a la localidad al interi...</td>\n",
       "      <td>LOC</td>\n",
       "      <td>0000…9999</td>\n",
       "      <td>4</td>\n",
       "      <td>NaN</td>\n",
       "      <td>NaN</td>\n",
       "      <td>NaN</td>\n",
       "      <td>NaN</td>\n",
       "    </tr>\n",
       "    <tr>\n",
       "      <th>9</th>\n",
       "      <td>6</td>\n",
       "      <td>Localidad</td>\n",
       "      <td>Nombre con el que se reconoce a la localidad d...</td>\n",
       "      <td>NOM_LOC</td>\n",
       "      <td>Alfanumérico</td>\n",
       "      <td>70</td>\n",
       "      <td>NaN</td>\n",
       "      <td>NaN</td>\n",
       "      <td>NaN</td>\n",
       "      <td>NaN</td>\n",
       "    </tr>\n",
       "    <tr>\n",
       "      <th>10</th>\n",
       "      <td>7</td>\n",
       "      <td>Longitud</td>\n",
       "      <td>Ubicación de la localidad expresada en grados,...</td>\n",
       "      <td>LONGITUD</td>\n",
       "      <td>Caracter</td>\n",
       "      <td>16</td>\n",
       "      <td>NaN</td>\n",
       "      <td>NaN</td>\n",
       "      <td>NaN</td>\n",
       "      <td>NaN</td>\n",
       "    </tr>\n",
       "    <tr>\n",
       "      <th>11</th>\n",
       "      <td>8</td>\n",
       "      <td>Latitud</td>\n",
       "      <td>Ubicación de la localidad expresada en grados,...</td>\n",
       "      <td>LATITUD</td>\n",
       "      <td>Caracter</td>\n",
       "      <td>15</td>\n",
       "      <td>NaN</td>\n",
       "      <td>NaN</td>\n",
       "      <td>NaN</td>\n",
       "      <td>NaN</td>\n",
       "    </tr>\n",
       "    <tr>\n",
       "      <th>12</th>\n",
       "      <td>9</td>\n",
       "      <td>Altitud</td>\n",
       "      <td>Altura a la que se encuentra una localidad, re...</td>\n",
       "      <td>ALTITUD</td>\n",
       "      <td>Caracter</td>\n",
       "      <td>4</td>\n",
       "      <td>NaN</td>\n",
       "      <td>NaN</td>\n",
       "      <td>NaN</td>\n",
       "      <td>NaN</td>\n",
       "    </tr>\n",
       "    <tr>\n",
       "      <th>13</th>\n",
       "      <td>1</td>\n",
       "      <td>Población total</td>\n",
       "      <td>Total de personas que residen habitualmente en...</td>\n",
       "      <td>POBTOT</td>\n",
       "      <td>0...999999999</td>\n",
       "      <td>9</td>\n",
       "      <td>NaN</td>\n",
       "      <td>NaN</td>\n",
       "      <td>NaN</td>\n",
       "      <td>NaN</td>\n",
       "    </tr>\n",
       "  </tbody>\n",
       "</table>\n",
       "</div>"
      ],
      "text/plain": [
       "3  Núm.                                     Indicador  \\\n",
       "4     1                   Clave de entidad federativa   \n",
       "5     2                            Entidad federativa   \n",
       "6     3  Clave de municipio o demarcación territorial   \n",
       "7     4           Municipio o demarcación territorial   \n",
       "8     5                            Clave de localidad   \n",
       "9     6                                     Localidad   \n",
       "10    7                                      Longitud   \n",
       "11    8                                       Latitud   \n",
       "12    9                                       Altitud   \n",
       "13    1                               Población total   \n",
       "\n",
       "3                                         Descripción   Mnemónico  \\\n",
       "4   Código que identifica a la entidad federativa....     ENTIDAD   \n",
       "5            Nombre oficial de la entidad federativa.    NOM_ENT    \n",
       "6   Código que identifica al municipio o demarcaci...         MUN   \n",
       "7   Nombre oficial del municipio o demarcación ter...  NOM_MUN      \n",
       "8   Código que identifica a la localidad al interi...         LOC   \n",
       "9   Nombre con el que se reconoce a la localidad d...    NOM_LOC    \n",
       "10  Ubicación de la localidad expresada en grados,...   LONGITUD    \n",
       "11  Ubicación de la localidad expresada en grados,...     LATITUD   \n",
       "12  Altura a la que se encuentra una localidad, re...     ALTITUD   \n",
       "13  Total de personas que residen habitualmente en...      POBTOT   \n",
       "\n",
       "3          Rangos Longitud NaN NaN NaN  NaN  \n",
       "4           00…32        2 NaN NaN NaN  NaN  \n",
       "5    Alfanumérico       50 NaN NaN NaN  NaN  \n",
       "6         000…570        3 NaN NaN NaN       \n",
       "7    Alfanumérico       50 NaN NaN NaN  NaN  \n",
       "8       0000…9999        4 NaN NaN NaN  NaN  \n",
       "9    Alfanumérico       70 NaN NaN NaN  NaN  \n",
       "10       Caracter       16 NaN NaN NaN  NaN  \n",
       "11       Caracter       15 NaN NaN NaN  NaN  \n",
       "12       Caracter        4 NaN NaN NaN  NaN  \n",
       "13  0...999999999        9 NaN NaN NaN  NaN  "
      ]
     },
     "execution_count": 67,
     "metadata": {},
     "output_type": "execute_result"
    }
   ],
   "source": [
    "df_dict_INEGI.head(10)"
   ]
  },
  {
   "cell_type": "code",
   "execution_count": 68,
   "metadata": {},
   "outputs": [
    {
     "data": {
      "text/plain": [
       "286"
      ]
     },
     "execution_count": 68,
     "metadata": {},
     "output_type": "execute_result"
    }
   ],
   "source": [
    "df_dict_INEGI.shape[0]  # Cantidad de 'variables' en el dict (contando clave de entidad federativa etc. que no son variables.)"
   ]
  },
  {
   "cell_type": "code",
   "execution_count": 69,
   "metadata": {},
   "outputs": [],
   "source": [
    "# Diccionario para transformar las claves mnemotécnicas a los nombres:\n",
    "dict_names = dict(zip(df_dict_INEGI.Mnemónico, df_dict_INEGI.Indicador))\n",
    "\n",
    "# Diccionario inverso a dict_names:\n",
    "dict_codes = dict(zip(df_dict_INEGI.Indicador, df_dict_INEGI.Mnemónico))\n",
    "\n",
    "\n",
    "# Nota: Estos diccionarios se utilizan en las funciones definidas."
   ]
  },
  {
   "cell_type": "code",
   "execution_count": 70,
   "metadata": {},
   "outputs": [
    {
     "data": {
      "text/plain": [
       "'Población de 5 años y más'"
      ]
     },
     "execution_count": 70,
     "metadata": {},
     "output_type": "execute_result"
    }
   ],
   "source": [
    "dict_names['P_5YMAS'] #Prueba"
   ]
  },
  {
   "cell_type": "markdown",
   "metadata": {},
   "source": [
    "Función para seaparar los datos en n partes:"
   ]
  },
  {
   "cell_type": "code",
   "execution_count": 71,
   "metadata": {},
   "outputs": [],
   "source": [
    "def split_df(df_datos, col_name_var, n=10):\n",
    "  '''\n",
    "  Args: DataFrame de los datos de INEGI (df_datos), String con el nombre mnemónico de la variable (col_name_var), Entero que indica en número de buckets (n)\n",
    "  Output: Array con n dataframes resultado de dividir el df original en n partes'''\n",
    "  # df_datos = pd.read_csv(name_datos_csv)\n",
    "  total_por_entidad = df_datos[(df_datos_INEGI['LOC'] == 0) & (df_datos['MUN'] == 0)].iloc[1:33,:];  # el iloc es para tomar en cuenta solo los estados, sin el número total de todas las entidades.\n",
    "  total_por_entidad[col_name_var] = pd.to_numeric(total_por_entidad[col_name_var])\n",
    "\n",
    "  total_por_entidad[col_name_var] = total_por_entidad[col_name_var] / total_por_entidad['POBTOT']\n",
    "  total_por_entidad = total_por_entidad.sort_values(by=[col_name_var], ascending = True)\n",
    "  total_por_entidad_arr = np.array_split(total_por_entidad, n)\n",
    "  return total_por_entidad_arr #, total_por_entidad"
   ]
  },
  {
   "cell_type": "markdown",
   "metadata": {},
   "source": [
    "Función para la construcción del dataframe final, para una sola varaible variable:"
   ]
  },
  {
   "cell_type": "code",
   "execution_count": 72,
   "metadata": {},
   "outputs": [],
   "source": [
    "def df_construct(dfs, col_name_var, n=10):\n",
    "  '''\n",
    "  Args: array de dataframes (dfs), String con el nombre mnemónico de la variable (col_name_var), número de partes en que se divide el cjto. de datos (n::Int)\n",
    "  Output: Dataframe para incorporarlo a la base de datos de INEGI (de una sola variable).\n",
    "  '''\n",
    "  # dfs = split_df(df, col_name_var, n=n)  # Esto es si se desea integrar la función split desde aquí.\n",
    "  rangos = []\n",
    "  cells_state = []\n",
    "  bins = []\n",
    "  lim_infs = []\n",
    "  lim_sups = []\n",
    "  # tot_state = float(df_totales_nacional[col_name_var])\n",
    "  for i, df in enumerate(dfs):\n",
    "    bins.append(i+1)\n",
    "    \n",
    "    inicio_rango = float(df[col_name_var].iloc[0])\n",
    "    fin_rango = float(df[col_name_var].iloc[-1])\n",
    "    lim_infs.append(float(inicio_rango))\n",
    "    lim_sups.append(float(fin_rango))\n",
    "\n",
    "    rango = f'{round(inicio_rango*100, 1)}%:{round(fin_rango*100, 1)}%'\n",
    "    rangos.append(rango)\n",
    "    # estados_en_rango = ['0'+str(num) if len(str(num)) < 2 else str(num) for num in list(df['ENTIDAD'])]\n",
    "    # estados_en_rango_str = '{'+str(estados_en_rango)[1:-1]+'}'  # formato para postgreSQL\n",
    "    estados_en_rango_str = '{'\n",
    "    for num in list(df['ENTIDAD']):\n",
    "      if len(str(num)) < 2:\n",
    "        estados_en_rango_str += '0' + str(num) + ','\n",
    "      else:\n",
    "        estados_en_rango_str += str(num) +','\n",
    "    estados_en_rango_str = estados_en_rango_str[0:-1] + '}'\n",
    "\n",
    "    cells_state.append(estados_en_rango_str)\n",
    "  \n",
    "  codes = [col_name_var for _ in range(n)]\n",
    "  names = [dict_names[col_name_var] for _ in range(n)]\n",
    "  meshs = ['state' for _ in range(n)]\n",
    "  ids = [\"nextval('covariable_id_seq')\"]*10\n",
    "  cells_mun = [None for _ in range(n)]\n",
    "  cells_ageb = [None for _ in range(n)]\n",
    "\n",
    "  return pd.DataFrame({'name':names, 'interval':rangos, 'bin':bins , 'code':codes, 'lim_inf': lim_infs, 'lim_sup': lim_sups, 'mesh':meshs, 'id':ids, 'cells_state': cells_state, 'cells_mun':cells_mun, 'cells_ageb':cells_ageb})"
   ]
  },
  {
   "cell_type": "markdown",
   "metadata": {},
   "source": [
    "Función para que integra las dos funciones anteriores (para una sola variable)."
   ]
  },
  {
   "cell_type": "code",
   "execution_count": 73,
   "metadata": {},
   "outputs": [],
   "source": [
    "def create_df_from_col(df, col_name_var, n=10):\n",
    "  dfs = split_df(df, col_name_var, n=n)\n",
    "  return df_construct(dfs, col_name_var, n=n)"
   ]
  },
  {
   "cell_type": "code",
   "execution_count": 74,
   "metadata": {},
   "outputs": [
    {
     "name": "stderr",
     "output_type": "stream",
     "text": [
      "c:\\Users\\Carmen Maldonado\\miniconda3\\envs\\envINEGI\\Lib\\site-packages\\numpy\\core\\fromnumeric.py:59: FutureWarning: 'DataFrame.swapaxes' is deprecated and will be removed in a future version. Please use 'DataFrame.transpose' instead.\n",
      "  return bound(*args, **kwds)\n"
     ]
    }
   ],
   "source": [
    "create_df_from_col(df_datos_INEGI, 'POBFEM'); # Prueba de la función anterior."
   ]
  },
  {
   "cell_type": "markdown",
   "metadata": {},
   "source": [
    "#### Checar variables de población y viviendas:"
   ]
  },
  {
   "cell_type": "code",
   "execution_count": 75,
   "metadata": {},
   "outputs": [
    {
     "name": "stdout",
     "output_type": "stream",
     "text": [
      "Hay 215 de Población y 45 de Vivienda en el df de INEGI\n"
     ]
    }
   ],
   "source": [
    "# Subdataframe que solo contiene las variables de Población\n",
    "df_poblacion_like = df_dict_INEGI[df_dict_INEGI['Indicador'].str.contains('Población')]#.shape\n",
    "# 'Viviendas' in df_dict_INEGI['Indicador']:\n",
    "df_vivienda_like = df_dict_INEGI[df_dict_INEGI['Indicador'].str.contains('Vivienda')]\n",
    "\n",
    "print(f'Hay {df_poblacion_like.shape[0]} de Población y {df_vivienda_like.shape[0]} de Vivienda en el df de INEGI')"
   ]
  },
  {
   "cell_type": "markdown",
   "metadata": {},
   "source": [
    "## Función para crear del df final para una lista de variables:"
   ]
  },
  {
   "cell_type": "code",
   "execution_count": 76,
   "metadata": {},
   "outputs": [],
   "source": [
    "def multiple_variables_in_one_csv(l_var): # Función para crear un solo df de distintas variables.\n",
    "    '''\n",
    "    Args: Lista con los nombres explícitos (no los mnemónicos) de las variables (l_var (type: lista de strings))\n",
    "    Output: DataFrame final para todas las variables seleccionadas, listo para subirse a la base de INEGI de postgres.'''\n",
    "    \n",
    "    dfs = [create_df_from_col(df_datos_INEGI, dict_codes[var]) for var in l_var]\n",
    "    df_final = pd.concat(dfs, ignore_index=True)\n",
    "    df_final.to_csv(f'data_({l_var[0]}_to_{l_var[-1]}).csv', index = False)\n",
    "    return df_final"
   ]
  },
  {
   "cell_type": "markdown",
   "metadata": {},
   "source": [
    "#### Análisis de los datos (para después obtener una lista con los nombres de las variables que están en INEGI)."
   ]
  },
  {
   "cell_type": "code",
   "execution_count": 77,
   "metadata": {},
   "outputs": [
    {
     "name": "stdout",
     "output_type": "stream",
     "text": [
      "Cantidad de variables de:\n",
      " Población= 215, Vivienda= 45 y total=286\n"
     ]
    }
   ],
   "source": [
    "L_variables = list(df_dict_INEGI['Indicador']) # Lista de todas las variables del df_dict_INEGI\n",
    "\n",
    "L_pob = [s for s in L_variables if 'Población' in s] #Lista de variables que tienen como subtring: Población. \n",
    "L_viv = [s for s in L_variables if 'Vivienda' in s] #Lista de variables que tienen como subtring: Vivienda.\n",
    "print(f'Cantidad de variables de:\\n Población= {len(L_pob)}, Vivienda= {len(L_viv)} y total={len(L_variables)}')"
   ]
  },
  {
   "cell_type": "code",
   "execution_count": 78,
   "metadata": {},
   "outputs": [
    {
     "name": "stdout",
     "output_type": "stream",
     "text": [
      "Hay 26 desconocidas\n"
     ]
    }
   ],
   "source": [
    "print(f'Hay {286-(215+45)} desconocidas')"
   ]
  },
  {
   "cell_type": "code",
   "execution_count": 79,
   "metadata": {},
   "outputs": [
    {
     "name": "stdout",
     "output_type": "stream",
     "text": [
      "Hay 161 variables de población en la base de INEGI\n"
     ]
    }
   ],
   "source": [
    "# Variables de población que hay en la base de datos INEGI2020 de postrges (estas se obtuvieron de una consulta a la tabla directamente en postgres)\n",
    "df_vars_pob_in_INEGI_postgres = pd.read_csv('data_pob_INEGI2020.csv')  \n",
    "print(f'Hay {df_vars_pob_in_INEGI_postgres.shape[0]} variables de población en la base de INEGI')"
   ]
  },
  {
   "cell_type": "code",
   "execution_count": 80,
   "metadata": {},
   "outputs": [
    {
     "name": "stdout",
     "output_type": "stream",
     "text": [
      "160 variables de población coinciden\n"
     ]
    }
   ],
   "source": [
    "#lista de las variables que están en el df de INEGI y también están en la base de INEGI de postgres\n",
    "L_pob_from_INEGI_in_postgres = [s for s in L_pob if s in list(df_vars_pob_in_INEGI_postgres['name'])]\n",
    "\n",
    "print(f'{len(L_pob_from_INEGI_in_postgres)} variables de población coinciden')"
   ]
  },
  {
   "cell_type": "code",
   "execution_count": 81,
   "metadata": {},
   "outputs": [
    {
     "name": "stdout",
     "output_type": "stream",
     "text": [
      "Tener cuidado con la variable:\n",
      "['Población femenina de 15 a 49 años\\xa0']\n",
      "que tiene un espacio al final en la de postgres y algunos carácteres extra en el csv de INEGI.\n"
     ]
    }
   ],
   "source": [
    "print('Tener cuidado con la variable:')\n",
    "print([s for s in L_pob if 'Población femenina de 15 a 49 años' in s])\n",
    "print('que tiene un espacio al final en la de postgres y algunos carácteres extra en el csv de INEGI.')"
   ]
  },
  {
   "cell_type": "markdown",
   "metadata": {},
   "source": [
    "Hay una variable con el nombre mal hasta este punto... para población, más adelante en el notebook se corrige."
   ]
  },
  {
   "cell_type": "markdown",
   "metadata": {},
   "source": [
    "Análisis para viviendas:"
   ]
  },
  {
   "cell_type": "code",
   "execution_count": 82,
   "metadata": {},
   "outputs": [],
   "source": [
    "# Variables de vivienda que hay en la base de datos INEGI2020 de postrges (estas se obtuvieron de una consulta a la tabla directamente en postgres también)\n",
    "df_vars_viv_in_INEGI_postgres = pd.read_csv('data_viv_INEGI2020.csv')"
   ]
  },
  {
   "cell_type": "code",
   "execution_count": 83,
   "metadata": {},
   "outputs": [
    {
     "data": {
      "text/plain": [
       "43"
      ]
     },
     "execution_count": 83,
     "metadata": {},
     "output_type": "execute_result"
    }
   ],
   "source": [
    "len([s for s in L_viv if s in list(df_vars_viv_in_INEGI_postgres['name'])])  # hay dos variables mal de viviendas."
   ]
  },
  {
   "cell_type": "code",
   "execution_count": 84,
   "metadata": {},
   "outputs": [
    {
     "data": {
      "text/plain": [
       "['Viviendas particulares habitadas que disponen de computadora, tablet o laptop',\n",
       " 'Viviendas particulares habitadas sin línea telefónica ni teléfono celular']"
      ]
     },
     "execution_count": 84,
     "metadata": {},
     "output_type": "execute_result"
    }
   ],
   "source": [
    "[s for s in list(df_vars_viv_in_INEGI_postgres['name']) if s not in L_viv]  # Nombres de dichas variables en postgres."
   ]
  },
  {
   "cell_type": "code",
   "execution_count": 85,
   "metadata": {},
   "outputs": [
    {
     "data": {
      "text/plain": [
       "['Viviendas particulares habitadas que disponen de computadora, laptop o tablet',\n",
       " 'Viviendas particulares habitadas sin línea telefónica fija ni teléfono celular']"
      ]
     },
     "execution_count": 85,
     "metadata": {},
     "output_type": "execute_result"
    }
   ],
   "source": [
    "wrong_var1 = [s for s in L_viv if 'Viviendas particulares habitadas que disponen de computadora' in s]\n",
    "wrong_var2 = [s for s in L_viv if 'Viviendas particulares habitadas sin línea telefónica' in s]\n",
    "wrong_var1 + wrong_var2 # Nomrbes de dichas varaibles en el csv de INEGI."
   ]
  },
  {
   "cell_type": "markdown",
   "metadata": {},
   "source": [
    "Ajuste de las variables de vivienda y población (se ponen los nombres que están en el postgres en el df del csv que bjamos de INEGI):"
   ]
  },
  {
   "cell_type": "code",
   "execution_count": 86,
   "metadata": {},
   "outputs": [
    {
     "name": "stdout",
     "output_type": "stream",
     "text": [
      "Cantidad de variables de:\n",
      " Población= 215, Vivienda= 45 y total=286\n"
     ]
    },
    {
     "name": "stderr",
     "output_type": "stream",
     "text": [
      "C:\\Users\\Carmen Maldonado\\AppData\\Local\\Temp\\ipykernel_14600\\3339252590.py:5: SettingWithCopyWarning: \n",
      "A value is trying to be set on a copy of a slice from a DataFrame\n",
      "\n",
      "See the caveats in the documentation: https://pandas.pydata.org/pandas-docs/stable/user_guide/indexing.html#returning-a-view-versus-a-copy\n",
      "  df_dict_INEGI['Indicador'].iloc[i] = 'Viviendas particulares habitadas que disponen de computadora, tablet o laptop'\n",
      "C:\\Users\\Carmen Maldonado\\AppData\\Local\\Temp\\ipykernel_14600\\3339252590.py:7: SettingWithCopyWarning: \n",
      "A value is trying to be set on a copy of a slice from a DataFrame\n",
      "\n",
      "See the caveats in the documentation: https://pandas.pydata.org/pandas-docs/stable/user_guide/indexing.html#returning-a-view-versus-a-copy\n",
      "  df_dict_INEGI['Indicador'].iloc[i] = 'Viviendas particulares habitadas sin línea telefónica ni teléfono celular'\n"
     ]
    }
   ],
   "source": [
    "for i in range(len(L_variables)):  # Este for corrige los nombres de población y vivienda que estaban \"mal\".\n",
    "    if df_dict_INEGI['Indicador'].iloc[i] == 'Población femenina de 15 a 49 años\\xa0':\n",
    "        df_dict_INEGI['Indicador'].iloc[i] = 'Población femenina de 15 a 49 años '\n",
    "    if df_dict_INEGI['Indicador'].iloc[i] == 'Viviendas particulares habitadas que disponen de computadora, laptop o tablet':\n",
    "        df_dict_INEGI['Indicador'].iloc[i] = 'Viviendas particulares habitadas que disponen de computadora, tablet o laptop'\n",
    "    if df_dict_INEGI['Indicador'].iloc[i] == 'Viviendas particulares habitadas sin línea telefónica fija ni teléfono celular':\n",
    "        df_dict_INEGI['Indicador'].iloc[i] = 'Viviendas particulares habitadas sin línea telefónica ni teléfono celular'\n",
    "\n",
    "\n",
    "L_variables = list(df_dict_INEGI['Indicador']) # Lista de todas las variables del df_dict_INEGI\n",
    "\n",
    "L_pob = [s for s in L_variables if 'Población' in s] #Lista de variables que tienen como subtring: Población. \n",
    "L_viv = [s for s in L_variables if 'Vivienda' in s]\n",
    "print(f'Cantidad de variables de:\\n Población= {len(L_pob)}, Vivienda= {len(L_viv)} y total={len(L_variables)}')\n",
    "# L_pob = L_pob[1:30] #Tomamos solo algunas variables de población."
   ]
  },
  {
   "cell_type": "code",
   "execution_count": 87,
   "metadata": {},
   "outputs": [],
   "source": [
    "#lista de las variables que están en la base de INEGI y también están en la de postgres (otra vez, para comprobar que ya estén bien).\n",
    "L_pob_from_INEGI_in_postgres = [s for s in L_pob if s in list(df_vars_pob_in_INEGI_postgres['name'])]\n",
    "L_viv_from_INEGI_in_postgres = [s for s in L_viv if s in list(df_vars_viv_in_INEGI_postgres['name'])]"
   ]
  },
  {
   "cell_type": "code",
   "execution_count": 88,
   "metadata": {},
   "outputs": [
    {
     "data": {
      "text/plain": [
       "(161, 45)"
      ]
     },
     "execution_count": 88,
     "metadata": {},
     "output_type": "execute_result"
    }
   ],
   "source": [
    "len(L_pob_from_INEGI_in_postgres), len(L_viv_from_INEGI_in_postgres)  # Ya coinciden los números."
   ]
  },
  {
   "cell_type": "code",
   "execution_count": 89,
   "metadata": {},
   "outputs": [
    {
     "data": {
      "text/plain": [
       "(True, True)"
      ]
     },
     "execution_count": 89,
     "metadata": {},
     "output_type": "execute_result"
    }
   ],
   "source": [
    "all([s in list(df_vars_pob_in_INEGI_postgres['name']) for s in L_pob_from_INEGI_in_postgres]), all([s in list(df_vars_viv_in_INEGI_postgres['name']) for s in L_viv_from_INEGI_in_postgres]) # Comprobación elemento a elemento."
   ]
  },
  {
   "cell_type": "markdown",
   "metadata": {},
   "source": [
    "------------\n"
   ]
  },
  {
   "cell_type": "markdown",
   "metadata": {},
   "source": [
    "Finalmente generamos el df para la resolución estatal de todas las variables de Población y Vivienda que ya están en la base de Postgres a partir de los datos de INEGI:"
   ]
  },
  {
   "cell_type": "code",
   "execution_count": 90,
   "metadata": {},
   "outputs": [],
   "source": [
    "L_pob_and_viv = L_pob_from_INEGI_in_postgres + L_viv_from_INEGI_in_postgres  #Juntamos los nombres de población y viviendas recopiladas.\n",
    "del L_pob_and_viv[0]  # Quitamos población total, porque sus rangos no están en porcentajes en la base de postres."
   ]
  },
  {
   "cell_type": "code",
   "execution_count": 91,
   "metadata": {},
   "outputs": [
    {
     "name": "stdout",
     "output_type": "stream",
     "text": [
      "Total de variables que se van a agregar:  205\n",
      "Empezando por la variable:  Población femenina\n",
      "Y terminando con:  Viviendas particulares habitadas sin tecnologías de la información y de la comunicación (TIC)\n"
     ]
    }
   ],
   "source": [
    "print('Total de variables que se van a agregar: ',len(L_pob_and_viv))\n",
    "print('Empezando por la variable: ', L_pob_and_viv[0])\n",
    "print('Y terminando con: ', L_pob_and_viv[-1])"
   ]
  },
  {
   "cell_type": "markdown",
   "metadata": {},
   "source": [
    "Volvemos a cargar el diccionario de nombres y códigos (no olvidar que los usan las funciones, así como los dataframes cargados al inicio a partir de los csv de INEGI.)"
   ]
  },
  {
   "cell_type": "code",
   "execution_count": 92,
   "metadata": {},
   "outputs": [],
   "source": [
    "# Diccionario para transformar las claves mnemotécnicas a los nombres:\n",
    "dict_names = dict(zip(df_dict_INEGI.Mnemónico, df_dict_INEGI.Indicador))\n",
    "\n",
    "# Diccionario inverso a dict_names:\n",
    "dict_codes = dict(zip(df_dict_INEGI.Indicador, df_dict_INEGI.Mnemónico))"
   ]
  },
  {
   "cell_type": "markdown",
   "metadata": {},
   "source": [
    "#### Finalmente creamos el CSV para las variables de Población y Vivienda (con resolución estatal):"
   ]
  },
  {
   "cell_type": "code",
   "execution_count": 93,
   "metadata": {},
   "outputs": [
    {
     "name": "stderr",
     "output_type": "stream",
     "text": [
      "c:\\Users\\Carmen Maldonado\\miniconda3\\envs\\envINEGI\\Lib\\site-packages\\numpy\\core\\fromnumeric.py:59: FutureWarning: 'DataFrame.swapaxes' is deprecated and will be removed in a future version. Please use 'DataFrame.transpose' instead.\n",
      "  return bound(*args, **kwds)\n"
     ]
    },
    {
     "data": {
      "text/html": [
       "<div>\n",
       "<style scoped>\n",
       "    .dataframe tbody tr th:only-of-type {\n",
       "        vertical-align: middle;\n",
       "    }\n",
       "\n",
       "    .dataframe tbody tr th {\n",
       "        vertical-align: top;\n",
       "    }\n",
       "\n",
       "    .dataframe thead th {\n",
       "        text-align: right;\n",
       "    }\n",
       "</style>\n",
       "<table border=\"1\" class=\"dataframe\">\n",
       "  <thead>\n",
       "    <tr style=\"text-align: right;\">\n",
       "      <th></th>\n",
       "      <th>name</th>\n",
       "      <th>interval</th>\n",
       "      <th>bin</th>\n",
       "      <th>code</th>\n",
       "      <th>lim_inf</th>\n",
       "      <th>lim_sup</th>\n",
       "      <th>mesh</th>\n",
       "      <th>id</th>\n",
       "      <th>cells_state</th>\n",
       "      <th>cells_mun</th>\n",
       "      <th>cells_ageb</th>\n",
       "    </tr>\n",
       "  </thead>\n",
       "  <tbody>\n",
       "    <tr>\n",
       "      <th>0</th>\n",
       "      <td>Población femenina</td>\n",
       "      <td>49.2%:50.0%</td>\n",
       "      <td>1</td>\n",
       "      <td>POBFEM</td>\n",
       "      <td>0.491664</td>\n",
       "      <td>0.500076</td>\n",
       "      <td>state</td>\n",
       "      <td>nextval('covariable_id_seq')</td>\n",
       "      <td>{03,02,23,26}</td>\n",
       "      <td>None</td>\n",
       "      <td>None</td>\n",
       "    </tr>\n",
       "    <tr>\n",
       "      <th>1</th>\n",
       "      <td>Población femenina</td>\n",
       "      <td>50.0%:50.5%</td>\n",
       "      <td>2</td>\n",
       "      <td>POBFEM</td>\n",
       "      <td>0.500220</td>\n",
       "      <td>0.504573</td>\n",
       "      <td>state</td>\n",
       "      <td>nextval('covariable_id_seq')</td>\n",
       "      <td>{19,05,18,08}</td>\n",
       "      <td>None</td>\n",
       "      <td>None</td>\n",
       "    </tr>\n",
       "    <tr>\n",
       "      <th>2</th>\n",
       "      <td>Población femenina</td>\n",
       "      <td>50.6%:50.7%</td>\n",
       "      <td>3</td>\n",
       "      <td>POBFEM</td>\n",
       "      <td>0.506163</td>\n",
       "      <td>0.506937</td>\n",
       "      <td>state</td>\n",
       "      <td>nextval('covariable_id_seq')</td>\n",
       "      <td>{25,10,06}</td>\n",
       "      <td>None</td>\n",
       "      <td>None</td>\n",
       "    </tr>\n",
       "    <tr>\n",
       "      <th>3</th>\n",
       "      <td>Población femenina</td>\n",
       "      <td>50.8%:50.9%</td>\n",
       "      <td>4</td>\n",
       "      <td>POBFEM</td>\n",
       "      <td>0.507801</td>\n",
       "      <td>0.508691</td>\n",
       "      <td>state</td>\n",
       "      <td>nextval('covariable_id_seq')</td>\n",
       "      <td>{04,28,31}</td>\n",
       "      <td>None</td>\n",
       "      <td>None</td>\n",
       "    </tr>\n",
       "    <tr>\n",
       "      <th>4</th>\n",
       "      <td>Población femenina</td>\n",
       "      <td>50.9%:51.1%</td>\n",
       "      <td>5</td>\n",
       "      <td>POBFEM</td>\n",
       "      <td>0.509058</td>\n",
       "      <td>0.511499</td>\n",
       "      <td>state</td>\n",
       "      <td>nextval('covariable_id_seq')</td>\n",
       "      <td>{14,01,27}</td>\n",
       "      <td>None</td>\n",
       "      <td>None</td>\n",
       "    </tr>\n",
       "    <tr>\n",
       "      <th>...</th>\n",
       "      <td>...</td>\n",
       "      <td>...</td>\n",
       "      <td>...</td>\n",
       "      <td>...</td>\n",
       "      <td>...</td>\n",
       "      <td>...</td>\n",
       "      <td>...</td>\n",
       "      <td>...</td>\n",
       "      <td>...</td>\n",
       "      <td>...</td>\n",
       "      <td>...</td>\n",
       "    </tr>\n",
       "    <tr>\n",
       "      <th>2045</th>\n",
       "      <td>Viviendas particulares habitadas sin tecnologí...</td>\n",
       "      <td>0.5%:0.7%</td>\n",
       "      <td>6</td>\n",
       "      <td>VPH_SINTIC</td>\n",
       "      <td>0.005021</td>\n",
       "      <td>0.006587</td>\n",
       "      <td>state</td>\n",
       "      <td>nextval('covariable_id_seq')</td>\n",
       "      <td>{16,08,23}</td>\n",
       "      <td>None</td>\n",
       "      <td>None</td>\n",
       "    </tr>\n",
       "    <tr>\n",
       "      <th>2046</th>\n",
       "      <td>Viviendas particulares habitadas sin tecnologí...</td>\n",
       "      <td>0.7%:0.7%</td>\n",
       "      <td>7</td>\n",
       "      <td>VPH_SINTIC</td>\n",
       "      <td>0.006791</td>\n",
       "      <td>0.007423</td>\n",
       "      <td>state</td>\n",
       "      <td>nextval('covariable_id_seq')</td>\n",
       "      <td>{10,31,18}</td>\n",
       "      <td>None</td>\n",
       "      <td>None</td>\n",
       "    </tr>\n",
       "    <tr>\n",
       "      <th>2047</th>\n",
       "      <td>Viviendas particulares habitadas sin tecnologí...</td>\n",
       "      <td>0.8%:0.8%</td>\n",
       "      <td>8</td>\n",
       "      <td>VPH_SINTIC</td>\n",
       "      <td>0.007565</td>\n",
       "      <td>0.008459</td>\n",
       "      <td>state</td>\n",
       "      <td>nextval('covariable_id_seq')</td>\n",
       "      <td>{21,24,13}</td>\n",
       "      <td>None</td>\n",
       "      <td>None</td>\n",
       "    </tr>\n",
       "    <tr>\n",
       "      <th>2048</th>\n",
       "      <td>Viviendas particulares habitadas sin tecnologí...</td>\n",
       "      <td>1.1%:1.3%</td>\n",
       "      <td>9</td>\n",
       "      <td>VPH_SINTIC</td>\n",
       "      <td>0.010710</td>\n",
       "      <td>0.012956</td>\n",
       "      <td>state</td>\n",
       "      <td>nextval('covariable_id_seq')</td>\n",
       "      <td>{27,30,04}</td>\n",
       "      <td>None</td>\n",
       "      <td>None</td>\n",
       "    </tr>\n",
       "    <tr>\n",
       "      <th>2049</th>\n",
       "      <td>Viviendas particulares habitadas sin tecnologí...</td>\n",
       "      <td>2.0%:2.7%</td>\n",
       "      <td>10</td>\n",
       "      <td>VPH_SINTIC</td>\n",
       "      <td>0.019946</td>\n",
       "      <td>0.027356</td>\n",
       "      <td>state</td>\n",
       "      <td>nextval('covariable_id_seq')</td>\n",
       "      <td>{12,20,07}</td>\n",
       "      <td>None</td>\n",
       "      <td>None</td>\n",
       "    </tr>\n",
       "  </tbody>\n",
       "</table>\n",
       "<p>2050 rows × 11 columns</p>\n",
       "</div>"
      ],
      "text/plain": [
       "                                                   name     interval  bin  \\\n",
       "0                                    Población femenina  49.2%:50.0%    1   \n",
       "1                                    Población femenina  50.0%:50.5%    2   \n",
       "2                                    Población femenina  50.6%:50.7%    3   \n",
       "3                                    Población femenina  50.8%:50.9%    4   \n",
       "4                                    Población femenina  50.9%:51.1%    5   \n",
       "...                                                 ...          ...  ...   \n",
       "2045  Viviendas particulares habitadas sin tecnologí...    0.5%:0.7%    6   \n",
       "2046  Viviendas particulares habitadas sin tecnologí...    0.7%:0.7%    7   \n",
       "2047  Viviendas particulares habitadas sin tecnologí...    0.8%:0.8%    8   \n",
       "2048  Viviendas particulares habitadas sin tecnologí...    1.1%:1.3%    9   \n",
       "2049  Viviendas particulares habitadas sin tecnologí...    2.0%:2.7%   10   \n",
       "\n",
       "            code   lim_inf   lim_sup   mesh                            id  \\\n",
       "0         POBFEM  0.491664  0.500076  state  nextval('covariable_id_seq')   \n",
       "1         POBFEM  0.500220  0.504573  state  nextval('covariable_id_seq')   \n",
       "2         POBFEM  0.506163  0.506937  state  nextval('covariable_id_seq')   \n",
       "3         POBFEM  0.507801  0.508691  state  nextval('covariable_id_seq')   \n",
       "4         POBFEM  0.509058  0.511499  state  nextval('covariable_id_seq')   \n",
       "...          ...       ...       ...    ...                           ...   \n",
       "2045  VPH_SINTIC  0.005021  0.006587  state  nextval('covariable_id_seq')   \n",
       "2046  VPH_SINTIC  0.006791  0.007423  state  nextval('covariable_id_seq')   \n",
       "2047  VPH_SINTIC  0.007565  0.008459  state  nextval('covariable_id_seq')   \n",
       "2048  VPH_SINTIC  0.010710  0.012956  state  nextval('covariable_id_seq')   \n",
       "2049  VPH_SINTIC  0.019946  0.027356  state  nextval('covariable_id_seq')   \n",
       "\n",
       "        cells_state cells_mun cells_ageb  \n",
       "0     {03,02,23,26}      None       None  \n",
       "1     {19,05,18,08}      None       None  \n",
       "2        {25,10,06}      None       None  \n",
       "3        {04,28,31}      None       None  \n",
       "4        {14,01,27}      None       None  \n",
       "...             ...       ...        ...  \n",
       "2045     {16,08,23}      None       None  \n",
       "2046     {10,31,18}      None       None  \n",
       "2047     {21,24,13}      None       None  \n",
       "2048     {27,30,04}      None       None  \n",
       "2049     {12,20,07}      None       None  \n",
       "\n",
       "[2050 rows x 11 columns]"
      ]
     },
     "execution_count": 93,
     "metadata": {},
     "output_type": "execute_result"
    }
   ],
   "source": [
    "multiple_variables_in_one_csv(L_pob_and_viv)"
   ]
  },
  {
   "cell_type": "code",
   "execution_count": null,
   "metadata": {},
   "outputs": [],
   "source": []
  }
 ],
 "metadata": {
  "kernelspec": {
   "display_name": "Python 3",
   "language": "python",
   "name": "python3"
  },
  "language_info": {
   "codemirror_mode": {
    "name": "ipython",
    "version": 3
   },
   "file_extension": ".py",
   "mimetype": "text/x-python",
   "name": "python",
   "nbconvert_exporter": "python",
   "pygments_lexer": "ipython3",
   "version": "3.12.4"
  }
 },
 "nbformat": 4,
 "nbformat_minor": 2
}
